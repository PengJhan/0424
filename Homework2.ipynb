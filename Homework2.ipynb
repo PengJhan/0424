{
 "cells": [
  {
   "cell_type": "code",
   "execution_count": 2,
   "metadata": {},
   "outputs": [
    {
     "name": "stdout",
     "output_type": "stream",
     "text": [
      "請輸入你想猜的字母(有區分大小寫)或數字(0~9)q\n",
      "登愣登愣愣~在第 1 次猜到了~恭喜恭喜\n"
     ]
    }
   ],
   "source": [
    "k=0\n",
    "while True:\n",
    "    guest=input(\"請輸入你想猜的字母(有區分大小寫)或數字(0~9)\")\n",
    "    if guest==\"8\" or guest==\"q\":\n",
    "        k+=1\n",
    "        print(\"登愣登愣愣~在第\",k,\"次猜到了~恭喜恭喜\")\n",
    "        break\n",
    "    else:\n",
    "        k+=1\n",
    "        print(\"哈哈哈笨死了~再猜阿!還等什麼!\")"
   ]
  },
  {
   "cell_type": "code",
   "execution_count": null,
   "metadata": {
    "collapsed": true
   },
   "outputs": [],
   "source": []
  }
 ],
 "metadata": {
  "kernelspec": {
   "display_name": "Python 3",
   "language": "python",
   "name": "python3"
  },
  "language_info": {
   "codemirror_mode": {
    "name": "ipython",
    "version": 3
   },
   "file_extension": ".py",
   "mimetype": "text/x-python",
   "name": "python",
   "nbconvert_exporter": "python",
   "pygments_lexer": "ipython3",
   "version": "3.6.1"
  }
 },
 "nbformat": 4,
 "nbformat_minor": 2
}
